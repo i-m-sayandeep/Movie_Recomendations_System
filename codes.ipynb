{
 "metadata": {
  "language_info": {
   "codemirror_mode": {
    "name": "ipython",
    "version": 3
   },
   "file_extension": ".py",
   "mimetype": "text/x-python",
   "name": "python",
   "nbconvert_exporter": "python",
   "pygments_lexer": "ipython3",
   "version": "3.8.5-final"
  },
  "orig_nbformat": 2,
  "kernelspec": {
   "name": "Python 3.8.5 32-bit",
   "display_name": "Python 3.8.5 32-bit",
   "metadata": {
    "interpreter": {
     "hash": "a8882d902e93fe2ebb3dafa2a1c0da33aa6f6f41051f4082ebea08f282b2e97c"
    }
   }
  }
 },
 "nbformat": 4,
 "nbformat_minor": 2,
 "cells": [
  {
   "cell_type": "markdown",
   "metadata": {},
   "source": [
    "## Importing libraries"
   ]
  },
  {
   "cell_type": "code",
   "execution_count": 178,
   "metadata": {},
   "outputs": [],
   "source": [
    "import pandas as pd\n",
    "import numpy as np"
   ]
  },
  {
   "cell_type": "markdown",
   "metadata": {},
   "source": [
    "### Reading the dataset"
   ]
  },
  {
   "cell_type": "code",
   "execution_count": 179,
   "metadata": {},
   "outputs": [],
   "source": [
    "df = pd.read_csv('movie_dataset.csv')"
   ]
  },
  {
   "cell_type": "code",
   "execution_count": 180,
   "metadata": {},
   "outputs": [
    {
     "output_type": "execute_result",
     "data": {
      "text/plain": [
       "   index     budget                                    genres  \\\n",
       "0      0  237000000  Action Adventure Fantasy Science Fiction   \n",
       "1      1  300000000                  Adventure Fantasy Action   \n",
       "2      2  245000000                    Action Adventure Crime   \n",
       "3      3  250000000               Action Crime Drama Thriller   \n",
       "4      4  260000000          Action Adventure Science Fiction   \n",
       "\n",
       "                                       homepage      id  \\\n",
       "0                   http://www.avatarmovie.com/   19995   \n",
       "1  http://disney.go.com/disneypictures/pirates/     285   \n",
       "2   http://www.sonypictures.com/movies/spectre/  206647   \n",
       "3            http://www.thedarkknightrises.com/   49026   \n",
       "4          http://movies.disney.com/john-carter   49529   \n",
       "\n",
       "                                            keywords original_language  \\\n",
       "0  culture clash future space war space colony so...                en   \n",
       "1  ocean drug abuse exotic island east india trad...                en   \n",
       "2         spy based on novel secret agent sequel mi6                en   \n",
       "3  dc comics crime fighter terrorist secret ident...                en   \n",
       "4  based on novel mars medallion space travel pri...                en   \n",
       "\n",
       "                             original_title  \\\n",
       "0                                    Avatar   \n",
       "1  Pirates of the Caribbean: At World's End   \n",
       "2                                   Spectre   \n",
       "3                     The Dark Knight Rises   \n",
       "4                               John Carter   \n",
       "\n",
       "                                            overview  popularity  ... runtime  \\\n",
       "0  In the 22nd century, a paraplegic Marine is di...  150.437577  ...   162.0   \n",
       "1  Captain Barbossa, long believed to be dead, ha...  139.082615  ...   169.0   \n",
       "2  A cryptic message from Bond’s past sends him o...  107.376788  ...   148.0   \n",
       "3  Following the death of District Attorney Harve...  112.312950  ...   165.0   \n",
       "4  John Carter is a war-weary, former military ca...   43.926995  ...   132.0   \n",
       "\n",
       "                                    spoken_languages    status  \\\n",
       "0  [{\"iso_639_1\": \"en\", \"name\": \"English\"}, {\"iso...  Released   \n",
       "1           [{\"iso_639_1\": \"en\", \"name\": \"English\"}]  Released   \n",
       "2  [{\"iso_639_1\": \"fr\", \"name\": \"Fran\\u00e7ais\"},...  Released   \n",
       "3           [{\"iso_639_1\": \"en\", \"name\": \"English\"}]  Released   \n",
       "4           [{\"iso_639_1\": \"en\", \"name\": \"English\"}]  Released   \n",
       "\n",
       "                                          tagline  \\\n",
       "0                     Enter the World of Pandora.   \n",
       "1  At the end of the world, the adventure begins.   \n",
       "2                           A Plan No One Escapes   \n",
       "3                                 The Legend Ends   \n",
       "4            Lost in our world, found in another.   \n",
       "\n",
       "                                      title vote_average vote_count  \\\n",
       "0                                    Avatar          7.2      11800   \n",
       "1  Pirates of the Caribbean: At World's End          6.9       4500   \n",
       "2                                   Spectre          6.3       4466   \n",
       "3                     The Dark Knight Rises          7.6       9106   \n",
       "4                               John Carter          6.1       2124   \n",
       "\n",
       "                                                cast  \\\n",
       "0  Sam Worthington Zoe Saldana Sigourney Weaver S...   \n",
       "1  Johnny Depp Orlando Bloom Keira Knightley Stel...   \n",
       "2  Daniel Craig Christoph Waltz L\\u00e9a Seydoux ...   \n",
       "3  Christian Bale Michael Caine Gary Oldman Anne ...   \n",
       "4  Taylor Kitsch Lynn Collins Samantha Morton Wil...   \n",
       "\n",
       "                                                crew           director  \n",
       "0  [{'name': 'Stephen E. Rivkin', 'gender': 0, 'd...      James Cameron  \n",
       "1  [{'name': 'Dariusz Wolski', 'gender': 2, 'depa...     Gore Verbinski  \n",
       "2  [{'name': 'Thomas Newman', 'gender': 2, 'depar...         Sam Mendes  \n",
       "3  [{'name': 'Hans Zimmer', 'gender': 2, 'departm...  Christopher Nolan  \n",
       "4  [{'name': 'Andrew Stanton', 'gender': 2, 'depa...     Andrew Stanton  \n",
       "\n",
       "[5 rows x 24 columns]"
      ],
      "text/html": "<div>\n<style scoped>\n    .dataframe tbody tr th:only-of-type {\n        vertical-align: middle;\n    }\n\n    .dataframe tbody tr th {\n        vertical-align: top;\n    }\n\n    .dataframe thead th {\n        text-align: right;\n    }\n</style>\n<table border=\"1\" class=\"dataframe\">\n  <thead>\n    <tr style=\"text-align: right;\">\n      <th></th>\n      <th>index</th>\n      <th>budget</th>\n      <th>genres</th>\n      <th>homepage</th>\n      <th>id</th>\n      <th>keywords</th>\n      <th>original_language</th>\n      <th>original_title</th>\n      <th>overview</th>\n      <th>popularity</th>\n      <th>...</th>\n      <th>runtime</th>\n      <th>spoken_languages</th>\n      <th>status</th>\n      <th>tagline</th>\n      <th>title</th>\n      <th>vote_average</th>\n      <th>vote_count</th>\n      <th>cast</th>\n      <th>crew</th>\n      <th>director</th>\n    </tr>\n  </thead>\n  <tbody>\n    <tr>\n      <th>0</th>\n      <td>0</td>\n      <td>237000000</td>\n      <td>Action Adventure Fantasy Science Fiction</td>\n      <td>http://www.avatarmovie.com/</td>\n      <td>19995</td>\n      <td>culture clash future space war space colony so...</td>\n      <td>en</td>\n      <td>Avatar</td>\n      <td>In the 22nd century, a paraplegic Marine is di...</td>\n      <td>150.437577</td>\n      <td>...</td>\n      <td>162.0</td>\n      <td>[{\"iso_639_1\": \"en\", \"name\": \"English\"}, {\"iso...</td>\n      <td>Released</td>\n      <td>Enter the World of Pandora.</td>\n      <td>Avatar</td>\n      <td>7.2</td>\n      <td>11800</td>\n      <td>Sam Worthington Zoe Saldana Sigourney Weaver S...</td>\n      <td>[{'name': 'Stephen E. Rivkin', 'gender': 0, 'd...</td>\n      <td>James Cameron</td>\n    </tr>\n    <tr>\n      <th>1</th>\n      <td>1</td>\n      <td>300000000</td>\n      <td>Adventure Fantasy Action</td>\n      <td>http://disney.go.com/disneypictures/pirates/</td>\n      <td>285</td>\n      <td>ocean drug abuse exotic island east india trad...</td>\n      <td>en</td>\n      <td>Pirates of the Caribbean: At World's End</td>\n      <td>Captain Barbossa, long believed to be dead, ha...</td>\n      <td>139.082615</td>\n      <td>...</td>\n      <td>169.0</td>\n      <td>[{\"iso_639_1\": \"en\", \"name\": \"English\"}]</td>\n      <td>Released</td>\n      <td>At the end of the world, the adventure begins.</td>\n      <td>Pirates of the Caribbean: At World's End</td>\n      <td>6.9</td>\n      <td>4500</td>\n      <td>Johnny Depp Orlando Bloom Keira Knightley Stel...</td>\n      <td>[{'name': 'Dariusz Wolski', 'gender': 2, 'depa...</td>\n      <td>Gore Verbinski</td>\n    </tr>\n    <tr>\n      <th>2</th>\n      <td>2</td>\n      <td>245000000</td>\n      <td>Action Adventure Crime</td>\n      <td>http://www.sonypictures.com/movies/spectre/</td>\n      <td>206647</td>\n      <td>spy based on novel secret agent sequel mi6</td>\n      <td>en</td>\n      <td>Spectre</td>\n      <td>A cryptic message from Bond’s past sends him o...</td>\n      <td>107.376788</td>\n      <td>...</td>\n      <td>148.0</td>\n      <td>[{\"iso_639_1\": \"fr\", \"name\": \"Fran\\u00e7ais\"},...</td>\n      <td>Released</td>\n      <td>A Plan No One Escapes</td>\n      <td>Spectre</td>\n      <td>6.3</td>\n      <td>4466</td>\n      <td>Daniel Craig Christoph Waltz L\\u00e9a Seydoux ...</td>\n      <td>[{'name': 'Thomas Newman', 'gender': 2, 'depar...</td>\n      <td>Sam Mendes</td>\n    </tr>\n    <tr>\n      <th>3</th>\n      <td>3</td>\n      <td>250000000</td>\n      <td>Action Crime Drama Thriller</td>\n      <td>http://www.thedarkknightrises.com/</td>\n      <td>49026</td>\n      <td>dc comics crime fighter terrorist secret ident...</td>\n      <td>en</td>\n      <td>The Dark Knight Rises</td>\n      <td>Following the death of District Attorney Harve...</td>\n      <td>112.312950</td>\n      <td>...</td>\n      <td>165.0</td>\n      <td>[{\"iso_639_1\": \"en\", \"name\": \"English\"}]</td>\n      <td>Released</td>\n      <td>The Legend Ends</td>\n      <td>The Dark Knight Rises</td>\n      <td>7.6</td>\n      <td>9106</td>\n      <td>Christian Bale Michael Caine Gary Oldman Anne ...</td>\n      <td>[{'name': 'Hans Zimmer', 'gender': 2, 'departm...</td>\n      <td>Christopher Nolan</td>\n    </tr>\n    <tr>\n      <th>4</th>\n      <td>4</td>\n      <td>260000000</td>\n      <td>Action Adventure Science Fiction</td>\n      <td>http://movies.disney.com/john-carter</td>\n      <td>49529</td>\n      <td>based on novel mars medallion space travel pri...</td>\n      <td>en</td>\n      <td>John Carter</td>\n      <td>John Carter is a war-weary, former military ca...</td>\n      <td>43.926995</td>\n      <td>...</td>\n      <td>132.0</td>\n      <td>[{\"iso_639_1\": \"en\", \"name\": \"English\"}]</td>\n      <td>Released</td>\n      <td>Lost in our world, found in another.</td>\n      <td>John Carter</td>\n      <td>6.1</td>\n      <td>2124</td>\n      <td>Taylor Kitsch Lynn Collins Samantha Morton Wil...</td>\n      <td>[{'name': 'Andrew Stanton', 'gender': 2, 'depa...</td>\n      <td>Andrew Stanton</td>\n    </tr>\n  </tbody>\n</table>\n<p>5 rows × 24 columns</p>\n</div>"
     },
     "metadata": {},
     "execution_count": 180
    }
   ],
   "source": [
    "df.head()"
   ]
  },
  {
   "cell_type": "markdown",
   "metadata": {},
   "source": [
    "### Creating a new dataset with specific columns"
   ]
  },
  {
   "cell_type": "code",
   "execution_count": 181,
   "metadata": {},
   "outputs": [],
   "source": [
    "column_names = ['id','title', 'genres','popularity','vote_average','vote_count','overview']"
   ]
  },
  {
   "cell_type": "code",
   "execution_count": 182,
   "metadata": {},
   "outputs": [],
   "source": [
    "df_new =  pd.DataFrame(data =  df, columns = column_names)"
   ]
  },
  {
   "cell_type": "code",
   "execution_count": 183,
   "metadata": {},
   "outputs": [
    {
     "output_type": "execute_result",
     "data": {
      "text/plain": [
       "       id                                     title  \\\n",
       "0   19995                                    Avatar   \n",
       "1     285  Pirates of the Caribbean: At World's End   \n",
       "2  206647                                   Spectre   \n",
       "3   49026                     The Dark Knight Rises   \n",
       "4   49529                               John Carter   \n",
       "\n",
       "                                     genres  popularity  vote_average  \\\n",
       "0  Action Adventure Fantasy Science Fiction  150.437577           7.2   \n",
       "1                  Adventure Fantasy Action  139.082615           6.9   \n",
       "2                    Action Adventure Crime  107.376788           6.3   \n",
       "3               Action Crime Drama Thriller  112.312950           7.6   \n",
       "4          Action Adventure Science Fiction   43.926995           6.1   \n",
       "\n",
       "   vote_count                                           overview  \n",
       "0       11800  In the 22nd century, a paraplegic Marine is di...  \n",
       "1        4500  Captain Barbossa, long believed to be dead, ha...  \n",
       "2        4466  A cryptic message from Bond’s past sends him o...  \n",
       "3        9106  Following the death of District Attorney Harve...  \n",
       "4        2124  John Carter is a war-weary, former military ca...  "
      ],
      "text/html": "<div>\n<style scoped>\n    .dataframe tbody tr th:only-of-type {\n        vertical-align: middle;\n    }\n\n    .dataframe tbody tr th {\n        vertical-align: top;\n    }\n\n    .dataframe thead th {\n        text-align: right;\n    }\n</style>\n<table border=\"1\" class=\"dataframe\">\n  <thead>\n    <tr style=\"text-align: right;\">\n      <th></th>\n      <th>id</th>\n      <th>title</th>\n      <th>genres</th>\n      <th>popularity</th>\n      <th>vote_average</th>\n      <th>vote_count</th>\n      <th>overview</th>\n    </tr>\n  </thead>\n  <tbody>\n    <tr>\n      <th>0</th>\n      <td>19995</td>\n      <td>Avatar</td>\n      <td>Action Adventure Fantasy Science Fiction</td>\n      <td>150.437577</td>\n      <td>7.2</td>\n      <td>11800</td>\n      <td>In the 22nd century, a paraplegic Marine is di...</td>\n    </tr>\n    <tr>\n      <th>1</th>\n      <td>285</td>\n      <td>Pirates of the Caribbean: At World's End</td>\n      <td>Adventure Fantasy Action</td>\n      <td>139.082615</td>\n      <td>6.9</td>\n      <td>4500</td>\n      <td>Captain Barbossa, long believed to be dead, ha...</td>\n    </tr>\n    <tr>\n      <th>2</th>\n      <td>206647</td>\n      <td>Spectre</td>\n      <td>Action Adventure Crime</td>\n      <td>107.376788</td>\n      <td>6.3</td>\n      <td>4466</td>\n      <td>A cryptic message from Bond’s past sends him o...</td>\n    </tr>\n    <tr>\n      <th>3</th>\n      <td>49026</td>\n      <td>The Dark Knight Rises</td>\n      <td>Action Crime Drama Thriller</td>\n      <td>112.312950</td>\n      <td>7.6</td>\n      <td>9106</td>\n      <td>Following the death of District Attorney Harve...</td>\n    </tr>\n    <tr>\n      <th>4</th>\n      <td>49529</td>\n      <td>John Carter</td>\n      <td>Action Adventure Science Fiction</td>\n      <td>43.926995</td>\n      <td>6.1</td>\n      <td>2124</td>\n      <td>John Carter is a war-weary, former military ca...</td>\n    </tr>\n  </tbody>\n</table>\n</div>"
     },
     "metadata": {},
     "execution_count": 183
    }
   ],
   "source": [
    "df_new.head()"
   ]
  },
  {
   "cell_type": "markdown",
   "metadata": {},
   "source": []
  },
  {
   "cell_type": "markdown",
   "metadata": {},
   "source": [
    "### Filtering of DATA"
   ]
  },
  {
   "cell_type": "code",
   "execution_count": 184,
   "metadata": {},
   "outputs": [
    {
     "output_type": "stream",
     "name": "stdout",
     "text": [
      "6.092171559442016\n"
     ]
    }
   ],
   "source": [
    "vote_mean = df_new['vote_average'].mean()\n",
    "print(vote_mean)"
   ]
  },
  {
   "cell_type": "code",
   "execution_count": 185,
   "metadata": {},
   "outputs": [
    {
     "output_type": "stream",
     "name": "stdout",
     "text": [
      "957.6000000000004\n"
     ]
    }
   ],
   "source": [
    "vote_quantile = df_new['vote_count'].quantile(0.8)\n",
    "print(vote_quantile)"
   ]
  },
  {
   "cell_type": "code",
   "execution_count": 186,
   "metadata": {},
   "outputs": [],
   "source": [
    "new_movies = df_new.copy().loc[df_new['vote_count']>=vote_quantile]\n"
   ]
  },
  {
   "cell_type": "code",
   "execution_count": 187,
   "metadata": {},
   "outputs": [],
   "source": [
    "def movie(a,b=vote_mean,c=vote_quantile):\n",
    "    x = a['vote_count']\n",
    "    y = a['vote_average']\n",
    "    return (x/(x+b)*y)+(b/(b+x)*c)"
   ]
  },
  {
   "cell_type": "code",
   "execution_count": 188,
   "metadata": {},
   "outputs": [],
   "source": [
    "new_movies['score'] = new_movies.apply(movie,axis=1)"
   ]
  },
  {
   "cell_type": "code",
   "execution_count": 189,
   "metadata": {},
   "outputs": [
    {
     "output_type": "execute_result",
     "data": {
      "text/plain": [
       "       id                        title  vote_count  vote_average      score\n",
       "4081  582          The Lives of Others         958           7.9  13.901226\n",
       "4017   76               Before Sunrise         959           7.7  13.696271\n",
       "3813  770           Gone with the Wind         970           7.7  13.628696\n",
       "1663  311  Once Upon a Time in America        1069           8.2  13.579918\n",
       "3739  703                   Annie Hall        1010           7.8  13.494704"
      ],
      "text/html": "<div>\n<style scoped>\n    .dataframe tbody tr th:only-of-type {\n        vertical-align: middle;\n    }\n\n    .dataframe tbody tr th {\n        vertical-align: top;\n    }\n\n    .dataframe thead th {\n        text-align: right;\n    }\n</style>\n<table border=\"1\" class=\"dataframe\">\n  <thead>\n    <tr style=\"text-align: right;\">\n      <th></th>\n      <th>id</th>\n      <th>title</th>\n      <th>vote_count</th>\n      <th>vote_average</th>\n      <th>score</th>\n    </tr>\n  </thead>\n  <tbody>\n    <tr>\n      <th>4081</th>\n      <td>582</td>\n      <td>The Lives of Others</td>\n      <td>958</td>\n      <td>7.9</td>\n      <td>13.901226</td>\n    </tr>\n    <tr>\n      <th>4017</th>\n      <td>76</td>\n      <td>Before Sunrise</td>\n      <td>959</td>\n      <td>7.7</td>\n      <td>13.696271</td>\n    </tr>\n    <tr>\n      <th>3813</th>\n      <td>770</td>\n      <td>Gone with the Wind</td>\n      <td>970</td>\n      <td>7.7</td>\n      <td>13.628696</td>\n    </tr>\n    <tr>\n      <th>1663</th>\n      <td>311</td>\n      <td>Once Upon a Time in America</td>\n      <td>1069</td>\n      <td>8.2</td>\n      <td>13.579918</td>\n    </tr>\n    <tr>\n      <th>3739</th>\n      <td>703</td>\n      <td>Annie Hall</td>\n      <td>1010</td>\n      <td>7.8</td>\n      <td>13.494704</td>\n    </tr>\n  </tbody>\n</table>\n</div>"
     },
     "metadata": {},
     "execution_count": 189
    }
   ],
   "source": [
    "new_movies = new_movies.sort_values('score',ascending = False)\n",
    "\n",
    "new_movies[['id','title','vote_count','vote_average','score']].head()"
   ]
  },
  {
   "cell_type": "markdown",
   "metadata": {},
   "source": [
    "## Importing SKLEARN LIBRARIES"
   ]
  },
  {
   "cell_type": "code",
   "execution_count": 190,
   "metadata": {},
   "outputs": [],
   "source": [
    "from sklearn.feature_extraction.text import CountVectorizer\n",
    "from sklearn.metrics.pairwise import cosine_similarity\n"
   ]
  },
  {
   "cell_type": "markdown",
   "metadata": {},
   "source": [
    "### On basis of genres"
   ]
  },
  {
   "cell_type": "code",
   "execution_count": 191,
   "metadata": {},
   "outputs": [
    {
     "output_type": "execute_result",
     "data": {
      "text/plain": [
       "(4803, 22)"
      ]
     },
     "metadata": {},
     "execution_count": 191
    }
   ],
   "source": [
    "vectorizer = CountVectorizer()\n",
    "df_new['genres'] = df_new['genres'].fillna('')\n",
    "Genres = vectorizer.fit_transform(df_new['genres'])\n",
    "\n",
    "Genres.shape"
   ]
  },
  {
   "cell_type": "code",
   "execution_count": 192,
   "metadata": {},
   "outputs": [],
   "source": [
    "y_genres = cosine_similarity(Genres,Genres)"
   ]
  },
  {
   "cell_type": "code",
   "execution_count": 193,
   "metadata": {},
   "outputs": [],
   "source": [
    "### On basis of Overview"
   ]
  },
  {
   "cell_type": "code",
   "execution_count": 194,
   "metadata": {},
   "outputs": [
    {
     "output_type": "execute_result",
     "data": {
      "text/plain": [
       "(4803, 21262)"
      ]
     },
     "metadata": {},
     "execution_count": 194
    }
   ],
   "source": [
    "vectorizer1 = CountVectorizer()\n",
    "df_new['overview'] = df_new['overview'].fillna('')\n",
    "Overview = vectorizer1.fit_transform(df_new['overview'])\n",
    "\n",
    "Overview.shape"
   ]
  },
  {
   "cell_type": "code",
   "execution_count": 195,
   "metadata": {},
   "outputs": [],
   "source": [
    "y_overview = cosine_similarity(Overview,Overview)"
   ]
  },
  {
   "cell_type": "code",
   "execution_count": 196,
   "metadata": {},
   "outputs": [],
   "source": [
    "indices = pd.Series(df_new.index,index=df_new['title']).drop_duplicates()"
   ]
  },
  {
   "cell_type": "markdown",
   "metadata": {},
   "source": [
    "### Creating the recomendation sytem"
   ]
  },
  {
   "cell_type": "code",
   "execution_count": 197,
   "metadata": {},
   "outputs": [],
   "source": [
    "def recomendations_genres(title,value=y_genres):\n",
    "    idex = indices[title]\n",
    "    scores = list(enumerate(value[idex]))\n",
    "    scores = sorted(scores,key=lambda x : x[1], reverse = True)\n",
    "    scores = scores[1:51]\n",
    "\n",
    "    movie = [i[0] for i in scores]\n",
    "\n",
    "    return(df_new['title'].iloc[movie])"
   ]
  },
  {
   "cell_type": "code",
   "execution_count": 199,
   "metadata": {},
   "outputs": [],
   "source": [
    "def recomendations_overview(title,value=y_overview):\n",
    "    idex = indices[title]\n",
    "    scores = list(enumerate(value[idex]))\n",
    "    scores = sorted(scores,key=lambda x : x[1], reverse = True)\n",
    "    scores = scores[1:51]\n",
    "\n",
    "    movie = [i[0] for i in scores]\n",
    "\n",
    "    return(df_new['title'].iloc[movie])"
   ]
  },
  {
   "cell_type": "markdown",
   "metadata": {},
   "source": [
    "#### Getting user input"
   ]
  },
  {
   "cell_type": "code",
   "execution_count": 201,
   "metadata": {},
   "outputs": [
    {
     "output_type": "stream",
     "name": "stdout",
     "text": [
      "MOVIES ON BASIS OF GENRES\n10                               Superman Returns\n14                                   Man of Steel\n46                     X-Men: Days of Future Past\n61                              Jupiter Ascending\n232                                 The Wolverine\n813                                      Superman\n870                                   Superman II\n3494    Beastmaster 2: Through the Portal of Time\n72                                  Suicide Squad\n168             Final Fantasy: The Spirits Within\n238                  Teenage Mutant Ninja Turtles\n322                             The Fifth Element\n618                                   Mystery Men\n1191                               Small Soldiers\n1192                                        Spawn\n1230                                   The Shadow\n1296                                 Superman III\n1390               Underworld: Rise of the Lycans\n1652                         Dragonball Evolution\n1932                                       Sheena\n2163                                 The Covenant\n3208              Star Wars: Clone Wars: Volume 1\n4                                     John Carter\n7                         Avengers: Age of Ultron\n16                                   The Avengers\n26                     Captain America: Civil War\n31                                     Iron Man 3\n35            Transformers: Revenge of the Fallen\n36                Transformers: Age of Extinction\n39                                   TRON: Legacy\n47                        Star Trek Into Darkness\n51                                    Pacific Rim\n52                 Transformers: Dark of the Moon\n56                               Star Trek Beyond\n59                                           2012\n68                                       Iron Man\n79                                     Iron Man 2\n85            Captain America: The Winter Soldier\n91                   Independence Day: Resurgence\n94                        Guardians of the Galaxy\n101                            X-Men: First Class\n102         The Hunger Games: Mockingjay - Part 2\n111                                  Transformers\n158                                     Star Trek\n169            Captain America: The First Avenger\n174                           The Incredible Hulk\n182                                       Ant-Man\n183               The Hunger Games: Catching Fire\n193                                   After Earth\n207                                  Total Recall\nName: title, dtype: object\n\n\nMOVIES ON BASIS OF OVERVIEW\n3604                                   Apollo 18\n3192                               Two Evil Eyes\n847                                     Semi-Pro\n153         Mission: Impossible - Ghost Protocol\n4111                                 Dinner Rush\n420                  Hellboy II: The Golden Army\n1517                                    Repo Men\n3950                              Brave New Girl\n1471                                       Ponyo\n3899              Beneath the Planet of the Apes\n311                 The Adventures of Pluto Nash\n3665                        We Have Your Husband\n187                                Puss in Boots\n2160                                  Stay Alive\n3052                         Dirty Pretty Things\n4312             The Charge of the Light Brigade\n1004                        The Boat That Rocked\n85           Captain America: The Winter Soldier\n1213                 Aliens vs Predator: Requiem\n3364                                     Warlock\n4321                  From a Whisper to a Scream\n274                                    Gladiator\n110                                 Pearl Harbor\n2647                     The Midnight Meat Train\n7                        Avengers: Age of Ultron\n717                                 Jack Reacher\n1984                   The Thief and the Cobbler\n1086                         Aliens in the Attic\n1110                       Underworld: Evolution\n1456                              Bound by Honor\n4644                             Teeth and Blood\n1528                                    Criminal\n2109                               Me Before You\n2529                                   The Queen\n2967                  E.T. the Extra-Terrestrial\n48                         Jack the Giant Slayer\n55                                         Brave\n3396                            Hard to Be a God\n4326                                    The Raid\n387                                Air Force One\n3311                       Thank You for Smoking\n569     The SpongeBob Movie: Sponge Out of Water\n3776                                     Samsara\n678                                 Dragon Blade\n15      The Chronicles of Narnia: Prince Caspian\n3925                                     Whipped\n156                             The Last Samurai\n353                               Tropic Thunder\n1513                               Transporter 2\n300                            Starship Troopers\nName: title, dtype: object\n"
     ]
    }
   ],
   "source": [
    "movie_name = input()\n",
    "print(\"MOVIES ON BASIS OF GENRES\")\n",
    "print(recomendations_genres(movie_name))\n",
    "print()\n",
    "print()\n",
    "print(\"MOVIES ON BASIS OF OVERVIEW\")\n",
    "print(recomendations_overview(movie_name))\n"
   ]
  },
  {
   "cell_type": "code",
   "execution_count": null,
   "metadata": {},
   "outputs": [],
   "source": []
  }
 ]
}